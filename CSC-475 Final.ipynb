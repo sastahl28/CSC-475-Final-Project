{
 "cells": [
  {
   "cell_type": "code",
   "execution_count": 1,
   "metadata": {},
   "outputs": [],
   "source": [
    "import pyarrow\n",
    "import fastparquet"
   ]
  },
  {
   "cell_type": "code",
   "execution_count": 3,
   "metadata": {},
   "outputs": [],
   "source": [
    "import pandas as pd"
   ]
  },
  {
   "cell_type": "code",
   "execution_count": 4,
   "metadata": {},
   "outputs": [],
   "source": [
    "taxi_data = pd.read_parquet('yellow_tripdata_2015-01.parquet')"
   ]
  },
  {
   "cell_type": "code",
   "execution_count": 3,
   "metadata": {},
   "outputs": [
    {
     "name": "stderr",
     "output_type": "stream",
     "text": [
      "/Users/sallystahl/opt/anaconda3/lib/python3.9/site-packages/_distutils_hack/__init__.py:33: UserWarning: Setuptools is replacing distutils.\n",
      "  warnings.warn(\"Setuptools is replacing distutils.\")\n"
     ]
    },
    {
     "name": "stdout",
     "output_type": "stream",
     "text": [
      "\n",
      "INSTALLED VERSIONS\n",
      "------------------\n",
      "commit           : ca60aab7340d9989d9428e11a51467658190bb6b\n",
      "python           : 3.9.13.final.0\n",
      "python-bits      : 64\n",
      "OS               : Darwin\n",
      "OS-release       : 21.6.0\n",
      "Version          : Darwin Kernel Version 21.6.0: Sat Jun 18 17:07:28 PDT 2022; root:xnu-8020.140.41~1/RELEASE_ARM64_T8110\n",
      "machine          : x86_64\n",
      "processor        : i386\n",
      "byteorder        : little\n",
      "LC_ALL           : None\n",
      "LANG             : None\n",
      "LOCALE           : None.UTF-8\n",
      "\n",
      "pandas           : 1.4.4\n",
      "numpy            : 1.21.5\n",
      "pytz             : 2022.1\n",
      "dateutil         : 2.8.2\n",
      "setuptools       : 63.4.1\n",
      "pip              : 23.1.2\n",
      "Cython           : 0.29.32\n",
      "pytest           : 7.1.2\n",
      "hypothesis       : None\n",
      "sphinx           : 5.0.2\n",
      "blosc            : None\n",
      "feather          : None\n",
      "xlsxwriter       : 3.0.3\n",
      "lxml.etree       : 4.9.1\n",
      "html5lib         : None\n",
      "pymysql          : None\n",
      "psycopg2         : None\n",
      "jinja2           : 2.11.3\n",
      "IPython          : 7.31.1\n",
      "pandas_datareader: None\n",
      "bs4              : 4.11.1\n",
      "bottleneck       : 1.3.5\n",
      "brotli           : \n",
      "fastparquet      : None\n",
      "fsspec           : 2022.7.1\n",
      "gcsfs            : None\n",
      "markupsafe       : 2.0.1\n",
      "matplotlib       : 3.5.2\n",
      "numba            : 0.55.1\n",
      "numexpr          : 2.8.3\n",
      "odfpy            : None\n",
      "openpyxl         : 3.0.10\n",
      "pandas_gbq       : None\n",
      "pyarrow          : None\n",
      "pyreadstat       : None\n",
      "pyxlsb           : None\n",
      "s3fs             : None\n",
      "scipy            : 1.9.1\n",
      "snappy           : \n",
      "sqlalchemy       : 1.4.39\n",
      "tables           : 3.6.1\n",
      "tabulate         : 0.8.10\n",
      "xarray           : 0.20.1\n",
      "xlrd             : 2.0.1\n",
      "xlwt             : None\n",
      "zstandard        : None\n"
     ]
    }
   ],
   "source": []
  },
  {
   "cell_type": "code",
   "execution_count": null,
   "metadata": {},
   "outputs": [],
   "source": []
  }
 ],
 "metadata": {
  "kernelspec": {
   "display_name": "base",
   "language": "python",
   "name": "python3"
  },
  "language_info": {
   "codemirror_mode": {
    "name": "ipython",
    "version": 3
   },
   "file_extension": ".py",
   "mimetype": "text/x-python",
   "name": "python",
   "nbconvert_exporter": "python",
   "pygments_lexer": "ipython3",
   "version": "3.9.13"
  },
  "orig_nbformat": 4
 },
 "nbformat": 4,
 "nbformat_minor": 2
}
